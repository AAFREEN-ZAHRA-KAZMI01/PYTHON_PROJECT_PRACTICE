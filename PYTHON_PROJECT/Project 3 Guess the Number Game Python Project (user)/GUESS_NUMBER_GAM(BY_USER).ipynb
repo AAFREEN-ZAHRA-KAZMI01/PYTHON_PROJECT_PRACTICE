{
  "nbformat": 4,
  "nbformat_minor": 0,
  "metadata": {
    "colab": {
      "provenance": []
    },
    "kernelspec": {
      "name": "python3",
      "display_name": "Python 3"
    },
    "language_info": {
      "name": "python"
    }
  },
  "cells": [
    {
      "cell_type": "code",
      "execution_count": 6,
      "metadata": {
        "colab": {
          "base_uri": "https://localhost:8080/"
        },
        "id": "1uKWg9erX-JJ",
        "outputId": "54d1336e-08a1-40ac-da7f-31f138db2d8b"
      },
      "outputs": [
        {
          "output_type": "stream",
          "name": "stdout",
          "text": [
            "Think of a number between 1 and 100, and I'll try to guess it!\n",
            "Is your number 34? (Enter 'h' if it's higher, 'l' if it's lower, or 'c' if correct)\n",
            "h\n",
            "Is your number 57? (Enter 'h' if it's higher, 'l' if it's lower, or 'c' if correct)\n",
            "l\n",
            "Is your number 46? (Enter 'h' if it's higher, 'l' if it's lower, or 'c' if correct)\n",
            "l\n",
            "Is your number 35? (Enter 'h' if it's higher, 'l' if it's lower, or 'c' if correct)\n",
            "c\n",
            "Yay! I guessed your number 35 in 4 attempts.\n"
          ]
        }
      ],
      "source": [
        "import random\n",
        "\n",
        "def computer_guesses():\n",
        "    print(\"Think of a number between 1 and 100, and I'll try to guess it!\")\n",
        "    low, high = 1, 100\n",
        "    attempts = 0\n",
        "\n",
        "    while low <= high:\n",
        "        guess = random.randint(low, high)\n",
        "        attempts += 1\n",
        "        print(f\"Is your number {guess}? (Enter 'h' if it's higher, 'l' if it's lower, or 'c' if correct)\")\n",
        "        response = input().lower()\n",
        "\n",
        "        if response == 'h':\n",
        "            low = guess + 1\n",
        "        elif response == 'l':\n",
        "            high = guess - 1\n",
        "        elif response == 'c':\n",
        "            print(f\"Yay! I guessed your number {guess} in {attempts} attempts.\")\n",
        "            break\n",
        "        else:\n",
        "            print(\"Invalid input. Please enter 'h', 'l', or 'c'.\")\n",
        "\n",
        "    if low > high:\n",
        "        print(\"Oops! The hints were inconsistent. Please try again.\")\n",
        "\n",
        "if __name__ == \"__main__\":\n",
        "    computer_guesses()\n"
      ]
    }
  ]
}