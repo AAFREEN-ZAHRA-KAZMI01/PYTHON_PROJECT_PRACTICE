{
  "nbformat": 4,
  "nbformat_minor": 0,
  "metadata": {
    "colab": {
      "provenance": []
    },
    "kernelspec": {
      "name": "python3",
      "display_name": "Python 3"
    },
    "language_info": {
      "name": "python"
    }
  },
  "cells": [
    {
      "cell_type": "code",
      "execution_count": null,
      "metadata": {
        "colab": {
          "base_uri": "https://localhost:8080/"
        },
        "id": "RSvvdg9tEtDV",
        "outputId": "70936a4c-3af0-4938-c7f6-468364d19027"
      },
      "outputs": [
        {
          "output_type": "stream",
          "name": "stdout",
          "text": [
            "Welcome to the Guess the Number Game!\n",
            "Guess a number between 1 and 100: 0\n",
            "Too low! Try again.\n",
            "Guess a number between 1 and 100: 1\n",
            "Too low! Try again.\n",
            "Guess a number between 1 and 100: 9\n",
            "Too low! Try again.\n",
            "Guess a number between 1 and 100: 10\n",
            "Too low! Try again.\n",
            "Guess a number between 1 and 100: 50\n",
            "Too high! Try again.\n",
            "Guess a number between 1 and 100: 39\n",
            "Too high! Try again.\n",
            "Guess a number between 1 and 100: 29\n",
            "Too high! Try again.\n",
            "Guess a number between 1 and 100: 19\n",
            "Too low! Try again.\n",
            "Guess a number between 1 and 100: 20\n",
            "Too low! Try again.\n",
            "Guess a number between 1 and 100: 29\n",
            "Too high! Try again.\n",
            "Guess a number between 1 and 100: 21\n",
            "Too low! Try again.\n",
            "Guess a number between 1 and 100: 22\n",
            "Too low! Try again.\n",
            "Guess a number between 1 and 100: 23\n",
            "Too low! Try again.\n",
            "Guess a number between 1 and 100: 26\n",
            "Too low! Try again.\n",
            "Guess a number between 1 and 100: 27\n",
            "Too low! Try again.\n",
            "Guess a number between 1 and 100: 28\n",
            "Congratulations! You guessed the number 28 in 16 attempts.\n"
          ]
        }
      ],
      "source": [
        "import random\n",
        "\n",
        "def guess_number():\n",
        "    print(\"Welcome to the Guess the Number Game!\")\n",
        "    number_to_guess = random.randint(1, 100)\n",
        "    attempts = 0\n",
        "\n",
        "    while True:\n",
        "        try:\n",
        "            user_guess = int(input(\"Guess a number between 1 and 100: \"))\n",
        "            attempts += 1\n",
        "\n",
        "            if user_guess < number_to_guess:\n",
        "                print(\"Too low! Try again.\")\n",
        "            elif user_guess > number_to_guess:\n",
        "                print(\"Too high! Try again.\")\n",
        "            else:\n",
        "                print(f\"Congratulations! You guessed the number {number_to_guess} in {attempts} attempts.\")\n",
        "                break\n",
        "        except ValueError:\n",
        "            print(\"Please enter a valid number!\")\n",
        "\n",
        "if __name__ == \"__main__\":\n",
        "    guess_number()\n"
      ]
    }
  ]
}