{
  "nbformat": 4,
  "nbformat_minor": 0,
  "metadata": {
    "colab": {
      "provenance": []
    },
    "kernelspec": {
      "name": "python3",
      "display_name": "Python 3"
    },
    "language_info": {
      "name": "python"
    }
  },
  "cells": [
    {
      "cell_type": "code",
      "execution_count": 2,
      "metadata": {
        "colab": {
          "base_uri": "https://localhost:8080/"
        },
        "id": "rdsEIEEeblVt",
        "outputId": "6fc54b8f-91e3-434e-88fe-1ac2ddca460a"
      },
      "outputs": [
        {
          "output_type": "stream",
          "name": "stdout",
          "text": [
            "Enter the number of passwords to generate: 9\n",
            "Enter the length of each password: 8\n",
            "\n",
            "Generated Passwords:\n",
            "^LR!fmIM\n",
            "s,~zyIDr\n",
            "5\\Qxv/Gw\n",
            "C(!U92?V\n",
            "@#UMYhIw\n",
            "Y.hc2m:o\n",
            "F\"iT>c3D\n",
            "|=7.in{0\n",
            "PB\\g-cO0\n"
          ]
        }
      ],
      "source": [
        "import random\n",
        "import string\n",
        "\n",
        "def generate_password(length):\n",
        "    characters = string.ascii_letters + string.digits + string.punctuation\n",
        "    return ''.join(random.choice(characters) for _ in range(length))\n",
        "\n",
        "def main():\n",
        "    try:\n",
        "        num_passwords = int(input(\"Enter the number of passwords to generate: \"))\n",
        "        length = int(input(\"Enter the length of each password: \"))\n",
        "\n",
        "        if num_passwords <= 0 or length <= 0:\n",
        "            print(\"Please enter positive values.\")\n",
        "            return\n",
        "\n",
        "        print(\"\\nGenerated Passwords:\")\n",
        "        for _ in range(num_passwords):\n",
        "            print(generate_password(length))\n",
        "    except ValueError:\n",
        "        print(\"Invalid input. Please enter a valid number.\")\n",
        "\n",
        "if __name__ == \"__main__\":\n",
        "    main()\n"
      ]
    }
  ]
}